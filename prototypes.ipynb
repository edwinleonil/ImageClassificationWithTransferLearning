{
 "cells": [
  {
   "cell_type": "code",
   "execution_count": 1,
   "metadata": {},
   "outputs": [
    {
     "name": "stdout",
     "output_type": "stream",
     "text": [
      "2048\n"
     ]
    }
   ],
   "source": [
    "import torch\n",
    "import torch.nn as nn\n",
    "\n",
    "# Save the model and weights\n",
    "load_model_path = \"pretrained_models/resnet50.pth\"\n",
    "\n",
    "# load the model\n",
    "model = torch.load(load_model_path)\n",
    "# get the number of outputs from self.model.fc.in_features\n",
    "num_ftrs = model.fc.in_features\n",
    "print(num_ftrs)"
   ]
  },
  {
   "cell_type": "code",
   "execution_count": 21,
   "metadata": {},
   "outputs": [],
   "source": [
    "import torchvision.transforms as transforms\n",
    "from torchvision.datasets import ImageFolder\n",
    "\n",
    "transform = transforms.Compose([\n",
    "            transforms.Resize(512), #256\n",
    "            transforms.CenterCrop(512),\n",
    "            transforms.ToTensor()]) #224\n",
    "\n",
    "train_dataset = ImageFolder(root=\"data/train\", transform=transform)\n"
   ]
  },
  {
   "cell_type": "code",
   "execution_count": null,
   "metadata": {},
   "outputs": [],
   "source": [
    "from torch.utils.data import DataLoader \n",
    "train_loader = DataLoader(train_dataset, batch_size=1, shuffle=False)\n",
    "\n",
    "# get the first image from the first batch\n",
    "img, label = next(iter(train_loader))\n",
    "\n",
    "# convert the tensor to numpy array\n",
    "img = img.numpy()\n",
    "\n",
    "# print the shape of the image\n",
    "print(img.shape)\n",
    "\n",
    "# show the image\n",
    "import matplotlib.pyplot as plt\n",
    "plt.imshow(img[0].transpose(1,2,0))\n",
    "plt.show()"
   ]
  }
 ],
 "metadata": {
  "kernelspec": {
   "display_name": "AI_institute",
   "language": "python",
   "name": "python3"
  },
  "language_info": {
   "codemirror_mode": {
    "name": "ipython",
    "version": 3
   },
   "file_extension": ".py",
   "mimetype": "text/x-python",
   "name": "python",
   "nbconvert_exporter": "python",
   "pygments_lexer": "ipython3",
   "version": "3.11.6"
  }
 },
 "nbformat": 4,
 "nbformat_minor": 2
}
